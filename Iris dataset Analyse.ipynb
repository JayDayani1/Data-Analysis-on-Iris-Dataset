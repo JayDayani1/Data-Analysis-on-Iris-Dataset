{
 "cells": [
  {
   "cell_type": "code",
   "execution_count": 1,
   "id": "545005cd",
   "metadata": {},
   "outputs": [],
   "source": [
    "#Data Analysis on Iris Dataset"
   ]
  },
  {
   "cell_type": "code",
   "execution_count": 2,
   "id": "06f8841c",
   "metadata": {},
   "outputs": [],
   "source": [
    "from sklearn.datasets import load_iris\n",
    "import pandas as pd"
   ]
  },
  {
   "cell_type": "code",
   "execution_count": 3,
   "id": "613e482f",
   "metadata": {},
   "outputs": [
    {
     "name": "stdout",
     "output_type": "stream",
     "text": [
      "Requirement already satisfied: openpyxl in c:\\users\\admin\\anaconda3\\lib\\site-packages (3.0.10)\n",
      "Requirement already satisfied: et_xmlfile in c:\\users\\admin\\anaconda3\\lib\\site-packages (from openpyxl) (1.1.0)\n"
     ]
    }
   ],
   "source": [
    "#Here I have intalled openpyxl to run the excel file\n",
    "!pip install openpyxl"
   ]
  },
  {
   "cell_type": "code",
   "execution_count": 4,
   "id": "bf78581b",
   "metadata": {},
   "outputs": [
    {
     "data": {
      "text/html": [
       "<div>\n",
       "<style scoped>\n",
       "    .dataframe tbody tr th:only-of-type {\n",
       "        vertical-align: middle;\n",
       "    }\n",
       "\n",
       "    .dataframe tbody tr th {\n",
       "        vertical-align: top;\n",
       "    }\n",
       "\n",
       "    .dataframe thead th {\n",
       "        text-align: right;\n",
       "    }\n",
       "</style>\n",
       "<table border=\"1\" class=\"dataframe\">\n",
       "  <thead>\n",
       "    <tr style=\"text-align: right;\">\n",
       "      <th></th>\n",
       "      <th>sepal.length</th>\n",
       "      <th>sepal.width</th>\n",
       "      <th>petal.length</th>\n",
       "      <th>petal.width</th>\n",
       "      <th>variety</th>\n",
       "    </tr>\n",
       "  </thead>\n",
       "  <tbody>\n",
       "    <tr>\n",
       "      <th>0</th>\n",
       "      <td>5.1</td>\n",
       "      <td>3.5</td>\n",
       "      <td>1.4</td>\n",
       "      <td>0.2</td>\n",
       "      <td>Setosa</td>\n",
       "    </tr>\n",
       "    <tr>\n",
       "      <th>1</th>\n",
       "      <td>4.9</td>\n",
       "      <td>3.0</td>\n",
       "      <td>1.4</td>\n",
       "      <td>0.2</td>\n",
       "      <td>Setosa</td>\n",
       "    </tr>\n",
       "    <tr>\n",
       "      <th>2</th>\n",
       "      <td>4.7</td>\n",
       "      <td>3.2</td>\n",
       "      <td>1.3</td>\n",
       "      <td>0.2</td>\n",
       "      <td>Setosa</td>\n",
       "    </tr>\n",
       "    <tr>\n",
       "      <th>3</th>\n",
       "      <td>4.6</td>\n",
       "      <td>3.1</td>\n",
       "      <td>1.5</td>\n",
       "      <td>0.2</td>\n",
       "      <td>Setosa</td>\n",
       "    </tr>\n",
       "    <tr>\n",
       "      <th>4</th>\n",
       "      <td>5.0</td>\n",
       "      <td>3.6</td>\n",
       "      <td>1.4</td>\n",
       "      <td>0.2</td>\n",
       "      <td>Setosa</td>\n",
       "    </tr>\n",
       "  </tbody>\n",
       "</table>\n",
       "</div>"
      ],
      "text/plain": [
       "   sepal.length  sepal.width  petal.length  petal.width variety\n",
       "0           5.1          3.5           1.4          0.2  Setosa\n",
       "1           4.9          3.0           1.4          0.2  Setosa\n",
       "2           4.7          3.2           1.3          0.2  Setosa\n",
       "3           4.6          3.1           1.5          0.2  Setosa\n",
       "4           5.0          3.6           1.4          0.2  Setosa"
      ]
     },
     "execution_count": 4,
     "metadata": {},
     "output_type": "execute_result"
    }
   ],
   "source": [
    "#run excel file with the help of panda\n",
    "flowerDataset = pd.read_excel(\"MLF_project1_IrishFlower.xlsx\", engine=\"openpyxl\")\n",
    "flowerDataset.head()"
   ]
  },
  {
   "cell_type": "code",
   "execution_count": 5,
   "id": "78368567",
   "metadata": {},
   "outputs": [
    {
     "data": {
      "text/plain": [
       "(150, 5)"
      ]
     },
     "execution_count": 5,
     "metadata": {},
     "output_type": "execute_result"
    }
   ],
   "source": [
    "flowerDataset.shape\n",
    "#is to check number os rows and columns"
   ]
  },
  {
   "cell_type": "code",
   "execution_count": 6,
   "id": "dec2c7f6",
   "metadata": {},
   "outputs": [
    {
     "data": {
      "text/html": [
       "<div>\n",
       "<style scoped>\n",
       "    .dataframe tbody tr th:only-of-type {\n",
       "        vertical-align: middle;\n",
       "    }\n",
       "\n",
       "    .dataframe tbody tr th {\n",
       "        vertical-align: top;\n",
       "    }\n",
       "\n",
       "    .dataframe thead th {\n",
       "        text-align: right;\n",
       "    }\n",
       "</style>\n",
       "<table border=\"1\" class=\"dataframe\">\n",
       "  <thead>\n",
       "    <tr style=\"text-align: right;\">\n",
       "      <th></th>\n",
       "      <th>sepal.length</th>\n",
       "      <th>sepal.width</th>\n",
       "      <th>petal.length</th>\n",
       "      <th>petal.width</th>\n",
       "    </tr>\n",
       "  </thead>\n",
       "  <tbody>\n",
       "    <tr>\n",
       "      <th>count</th>\n",
       "      <td>150.000000</td>\n",
       "      <td>150.000000</td>\n",
       "      <td>150.000000</td>\n",
       "      <td>150.000000</td>\n",
       "    </tr>\n",
       "    <tr>\n",
       "      <th>mean</th>\n",
       "      <td>5.843333</td>\n",
       "      <td>3.057333</td>\n",
       "      <td>3.758000</td>\n",
       "      <td>1.199333</td>\n",
       "    </tr>\n",
       "    <tr>\n",
       "      <th>std</th>\n",
       "      <td>0.828066</td>\n",
       "      <td>0.435866</td>\n",
       "      <td>1.765298</td>\n",
       "      <td>0.762238</td>\n",
       "    </tr>\n",
       "    <tr>\n",
       "      <th>min</th>\n",
       "      <td>4.300000</td>\n",
       "      <td>2.000000</td>\n",
       "      <td>1.000000</td>\n",
       "      <td>0.100000</td>\n",
       "    </tr>\n",
       "    <tr>\n",
       "      <th>25%</th>\n",
       "      <td>5.100000</td>\n",
       "      <td>2.800000</td>\n",
       "      <td>1.600000</td>\n",
       "      <td>0.300000</td>\n",
       "    </tr>\n",
       "    <tr>\n",
       "      <th>50%</th>\n",
       "      <td>5.800000</td>\n",
       "      <td>3.000000</td>\n",
       "      <td>4.350000</td>\n",
       "      <td>1.300000</td>\n",
       "    </tr>\n",
       "    <tr>\n",
       "      <th>75%</th>\n",
       "      <td>6.400000</td>\n",
       "      <td>3.300000</td>\n",
       "      <td>5.100000</td>\n",
       "      <td>1.800000</td>\n",
       "    </tr>\n",
       "    <tr>\n",
       "      <th>max</th>\n",
       "      <td>7.900000</td>\n",
       "      <td>4.400000</td>\n",
       "      <td>6.900000</td>\n",
       "      <td>2.500000</td>\n",
       "    </tr>\n",
       "  </tbody>\n",
       "</table>\n",
       "</div>"
      ],
      "text/plain": [
       "       sepal.length  sepal.width  petal.length  petal.width\n",
       "count    150.000000   150.000000    150.000000   150.000000\n",
       "mean       5.843333     3.057333      3.758000     1.199333\n",
       "std        0.828066     0.435866      1.765298     0.762238\n",
       "min        4.300000     2.000000      1.000000     0.100000\n",
       "25%        5.100000     2.800000      1.600000     0.300000\n",
       "50%        5.800000     3.000000      4.350000     1.300000\n",
       "75%        6.400000     3.300000      5.100000     1.800000\n",
       "max        7.900000     4.400000      6.900000     2.500000"
      ]
     },
     "execution_count": 6,
     "metadata": {},
     "output_type": "execute_result"
    }
   ],
   "source": [
    "flowerDataset.describe()"
   ]
  },
  {
   "cell_type": "code",
   "execution_count": 7,
   "id": "c3d9d08f",
   "metadata": {},
   "outputs": [
    {
     "data": {
      "text/plain": [
       "sepal.length    0\n",
       "sepal.width     0\n",
       "petal.length    0\n",
       "petal.width     0\n",
       "variety         0\n",
       "dtype: int64"
      ]
     },
     "execution_count": 7,
     "metadata": {},
     "output_type": "execute_result"
    }
   ],
   "source": [
    "flowerDataset.isnull().sum()\n",
    "#here we do not have any empty value in any column"
   ]
  },
  {
   "cell_type": "code",
   "execution_count": 8,
   "id": "942627d9",
   "metadata": {},
   "outputs": [
    {
     "data": {
      "text/html": [
       "<div>\n",
       "<style scoped>\n",
       "    .dataframe tbody tr th:only-of-type {\n",
       "        vertical-align: middle;\n",
       "    }\n",
       "\n",
       "    .dataframe tbody tr th {\n",
       "        vertical-align: top;\n",
       "    }\n",
       "\n",
       "    .dataframe thead th {\n",
       "        text-align: right;\n",
       "    }\n",
       "</style>\n",
       "<table border=\"1\" class=\"dataframe\">\n",
       "  <thead>\n",
       "    <tr style=\"text-align: right;\">\n",
       "      <th></th>\n",
       "      <th>sepal.length</th>\n",
       "      <th>sepal.width</th>\n",
       "      <th>petal.length</th>\n",
       "      <th>petal.width</th>\n",
       "      <th>variety</th>\n",
       "    </tr>\n",
       "  </thead>\n",
       "  <tbody>\n",
       "    <tr>\n",
       "      <th>0</th>\n",
       "      <td>5.1</td>\n",
       "      <td>3.5</td>\n",
       "      <td>1.4</td>\n",
       "      <td>0.2</td>\n",
       "      <td>Setosa</td>\n",
       "    </tr>\n",
       "    <tr>\n",
       "      <th>50</th>\n",
       "      <td>7.0</td>\n",
       "      <td>3.2</td>\n",
       "      <td>4.7</td>\n",
       "      <td>1.4</td>\n",
       "      <td>Versicolor</td>\n",
       "    </tr>\n",
       "    <tr>\n",
       "      <th>100</th>\n",
       "      <td>6.3</td>\n",
       "      <td>3.3</td>\n",
       "      <td>6.0</td>\n",
       "      <td>2.5</td>\n",
       "      <td>Virginica</td>\n",
       "    </tr>\n",
       "  </tbody>\n",
       "</table>\n",
       "</div>"
      ],
      "text/plain": [
       "     sepal.length  sepal.width  petal.length  petal.width     variety\n",
       "0             5.1          3.5           1.4          0.2      Setosa\n",
       "50            7.0          3.2           4.7          1.4  Versicolor\n",
       "100           6.3          3.3           6.0          2.5   Virginica"
      ]
     },
     "execution_count": 8,
     "metadata": {},
     "output_type": "execute_result"
    }
   ],
   "source": [
    "Remove_sameData = flowerDataset.drop_duplicates(subset = \"variety\")\n",
    "Remove_sameData\n",
    "#Remove Duplicates if any or to check only unique data"
   ]
  },
  {
   "cell_type": "code",
   "execution_count": 9,
   "id": "506a9e92",
   "metadata": {},
   "outputs": [
    {
     "data": {
      "text/plain": [
       "variety\n",
       "Setosa        50\n",
       "Versicolor    50\n",
       "Virginica     50\n",
       "dtype: int64"
      ]
     },
     "execution_count": 9,
     "metadata": {},
     "output_type": "execute_result"
    }
   ],
   "source": [
    "#now we want to count all elements of target value which is variety\n",
    "flowerDataset.value_counts(\"variety\")"
   ]
  },
  {
   "cell_type": "code",
   "execution_count": 10,
   "id": "bfc1bdd5",
   "metadata": {},
   "outputs": [
    {
     "data": {
      "image/png": "[encoded data removed]",
      "text/plain": [
       "<Figure size 1500x1500 with 4 Axes>"
      ]
     },
     "metadata": {},
     "output_type": "display_data"
    }
   ],
   "source": [
    "#Histogram representation of dataset\n",
    "import seaborn as sns\n",
    "import matplotlib.pyplot as plt\n",
    "\n",
    "Fig, axes = plt.subplots(2,2,figsize=(15,15))\n",
    "\n",
    "axes[0,0].set_title(\"Sepal Length\")\n",
    "axes[0,0].hist(flowerDataset[\"sepal.length\"],bins=7)\n",
    "\n",
    "axes[0,1].set_title(\"Sepal width\")\n",
    "axes[0,1].hist(flowerDataset[\"sepal.width\"],bins=7)\n",
    "\n",
    "axes[1,0].set_title(\"Petal Length\")\n",
    "axes[1,0].hist(flowerDataset[\"petal.length\"],bins=7)\n",
    "\n",
    "axes[1,1].set_title(\"Petal Width\")\n",
    "axes[1,1].hist(flowerDataset[\"petal.width\"],bins=7)\n",
    "\n",
    "plt.show()"
   ]
  },
  {
   "cell_type": "code",
   "execution_count": 11,
   "id": "5d55ba60",
   "metadata": {},
   "outputs": [
    {
     "data": {
      "text/html": [
       "<div>\n",
       "<style scoped>\n",
       "    .dataframe tbody tr th:only-of-type {\n",
       "        vertical-align: middle;\n",
       "    }\n",
       "\n",
       "    .dataframe tbody tr th {\n",
       "        vertical-align: top;\n",
       "    }\n",
       "\n",
       "    .dataframe thead th {\n",
       "        text-align: right;\n",
       "    }\n",
       "</style>\n",
       "<table border=\"1\" class=\"dataframe\">\n",
       "  <thead>\n",
       "    <tr style=\"text-align: right;\">\n",
       "      <th></th>\n",
       "      <th>sepal.length</th>\n",
       "      <th>sepal.width</th>\n",
       "      <th>petal.length</th>\n",
       "      <th>petal.width</th>\n",
       "      <th>variety</th>\n",
       "    </tr>\n",
       "  </thead>\n",
       "  <tbody>\n",
       "    <tr>\n",
       "      <th>0</th>\n",
       "      <td>5.1</td>\n",
       "      <td>3.5</td>\n",
       "      <td>1.4</td>\n",
       "      <td>0.2</td>\n",
       "      <td>0</td>\n",
       "    </tr>\n",
       "    <tr>\n",
       "      <th>1</th>\n",
       "      <td>4.9</td>\n",
       "      <td>3.0</td>\n",
       "      <td>1.4</td>\n",
       "      <td>0.2</td>\n",
       "      <td>0</td>\n",
       "    </tr>\n",
       "    <tr>\n",
       "      <th>2</th>\n",
       "      <td>4.7</td>\n",
       "      <td>3.2</td>\n",
       "      <td>1.3</td>\n",
       "      <td>0.2</td>\n",
       "      <td>0</td>\n",
       "    </tr>\n",
       "    <tr>\n",
       "      <th>3</th>\n",
       "      <td>4.6</td>\n",
       "      <td>3.1</td>\n",
       "      <td>1.5</td>\n",
       "      <td>0.2</td>\n",
       "      <td>0</td>\n",
       "    </tr>\n",
       "    <tr>\n",
       "      <th>4</th>\n",
       "      <td>5.0</td>\n",
       "      <td>3.6</td>\n",
       "      <td>1.4</td>\n",
       "      <td>0.2</td>\n",
       "      <td>0</td>\n",
       "    </tr>\n",
       "  </tbody>\n",
       "</table>\n",
       "</div>"
      ],
      "text/plain": [
       "   sepal.length  sepal.width  petal.length  petal.width  variety\n",
       "0           5.1          3.5           1.4          0.2        0\n",
       "1           4.9          3.0           1.4          0.2        0\n",
       "2           4.7          3.2           1.3          0.2        0\n",
       "3           4.6          3.1           1.5          0.2        0\n",
       "4           5.0          3.6           1.4          0.2        0"
      ]
     },
     "execution_count": 11,
     "metadata": {},
     "output_type": "execute_result"
    }
   ],
   "source": [
    "#Here I want to convert target variable in numeric type\n",
    "Total_variety={\"Setosa\":0,\"Versicolor\":1,\"Virginica\":2}\n",
    "flowerDataset[\"variety\"]=flowerDataset[\"variety\"].map(Total_variety)\n",
    "flowerDataset.head()"
   ]
  },
  {
   "cell_type": "code",
   "execution_count": 12,
   "id": "6cea2d39",
   "metadata": {},
   "outputs": [],
   "source": [
    "#here I will use two different ratios of training, validation and test data ie 60-20-20,\n",
    "#80-10-10. On the two different split ratios do the following\n",
    "# First Validation and test data ie 60-20-20,\n",
    "\n",
    "from sklearn.model_selection import train_test_split\n",
    "\n",
    "Features=flowerDataset.drop(\"variety\",axis=1)\n",
    "Labels=flowerDataset[\"variety\"]\n",
    "\n",
    "X_train, X_test, y_train, y_test = train_test_split(Features,Labels,test_size=0.4,random_state=42)\n",
    "X_test, X_val, y_test, y_val = train_test_split(X_test,y_test,test_size=0.5,random_state=42)\n"
   ]
  },
  {
   "cell_type": "code",
   "execution_count": 13,
   "id": "6cbadb39",
   "metadata": {},
   "outputs": [
    {
     "name": "stdout",
     "output_type": "stream",
     "text": [
      "0.6\n",
      "0.2\n",
      "0.2\n"
     ]
    }
   ],
   "source": [
    "for info in [y_train,y_test,y_val]:\n",
    "    print(round(len(info)/len(Labels),2))"
   ]
  },
  {
   "cell_type": "code",
   "execution_count": 14,
   "id": "5b8769ba",
   "metadata": {},
   "outputs": [],
   "source": [
    "X_train.to_csv(\"TrainFt.csv\",index=False)\n",
    "X_val.to_csv(\"ValueFt.csv\",index=False)\n",
    "X_test.to_csv(\"TestFt.csv\",index=False)\n",
    "\n",
    "y_train.to_csv(\"TrainLb.csv\",index=False)\n",
    "y_val.to_csv(\"ValueLb.csv\",index=False)\n",
    "y_test.to_csv(\"TestLb.csv\",index=False)"
   ]
  },
  {
   "cell_type": "code",
   "execution_count": 15,
   "id": "6fb84f4b",
   "metadata": {},
   "outputs": [
    {
     "name": "stdout",
     "output_type": "stream",
     "text": [
      "90\n",
      "90\n"
     ]
    }
   ],
   "source": [
    "# Now we will apply the K-fold cross Validation\n",
    "from sklearn.ensemble import RandomForestClassifier\n",
    "from sklearn.model_selection import cross_val_score\n",
    "\n",
    "Train_Feature = pd.read_csv(\"TrainFt.csv\")\n",
    "Train_Labels = pd.read_csv(\"TrainLb.csv\",header=None)\n",
    "Train_Labels= Train_Labels[1:]\n",
    "print(len(Train_Feature))\n",
    "print(len(Train_Labels))\n",
    "RandomForcast = RandomForestClassifier()"
   ]
  },
  {
   "cell_type": "code",
   "execution_count": 16,
   "id": "acd72d72",
   "metadata": {},
   "outputs": [
    {
     "data": {
      "text/plain": [
       "array([1.        , 0.72222222, 1.        , 1.        , 0.94444444])"
      ]
     },
     "execution_count": 16,
     "metadata": {},
     "output_type": "execute_result"
    }
   ],
   "source": [
    "\n",
    "result= cross_val_score(RandomForcast, Train_Feature, Train_Labels.values.ravel(),cv=5)\n",
    "result"
   ]
  },
  {
   "cell_type": "code",
   "execution_count": 17,
   "id": "cce6f226",
   "metadata": {},
   "outputs": [],
   "source": [
    "#we will apply function to print output\n",
    "def showStatus(score):\n",
    "    print(\"Best Params: {}\\n\".format(score.best_params_))\n",
    "    Total_Mean=score.cv_results_[\"mean_test_score\"]\n",
    "    Total_stds=score.cv_results_[\"std_test_score\"]\n",
    "    for mean, std, parms in zip(Total_Mean, Total_stds, score.cv_results_[\"params\"]):\n",
    "        print('{} (+/-{}) for {}'.format(round(mean,3), round(std*2,3),parms))"
   ]
  },
  {
   "cell_type": "code",
   "execution_count": 18,
   "id": "5766e882",
   "metadata": {},
   "outputs": [
    {
     "name": "stdout",
     "output_type": "stream",
     "text": [
      "Best Params: {'max_depth': 20, 'n_estimators': 5}\n",
      "\n",
      "0.878 (+/-0.237) for {'max_depth': 2, 'n_estimators': 5}\n",
      "0.933 (+/-0.215) for {'max_depth': 2, 'n_estimators': 50}\n",
      "0.922 (+/-0.206) for {'max_depth': 2, 'n_estimators': 100}\n",
      "0.933 (+/-0.163) for {'max_depth': 10, 'n_estimators': 5}\n",
      "0.911 (+/-0.194) for {'max_depth': 10, 'n_estimators': 50}\n",
      "0.911 (+/-0.194) for {'max_depth': 10, 'n_estimators': 100}\n",
      "0.956 (+/-0.13) for {'max_depth': 20, 'n_estimators': 5}\n",
      "0.911 (+/-0.194) for {'max_depth': 20, 'n_estimators': 50}\n",
      "0.922 (+/-0.206) for {'max_depth': 20, 'n_estimators': 100}\n",
      "0.878 (+/-0.163) for {'max_depth': None, 'n_estimators': 5}\n",
      "0.922 (+/-0.206) for {'max_depth': None, 'n_estimators': 50}\n",
      "0.911 (+/-0.194) for {'max_depth': None, 'n_estimators': 100}\n"
     ]
    }
   ],
   "source": [
    "#we will apply Random Forest Method\n",
    "from sklearn.model_selection import GridSearchCV\n",
    "criterion={\n",
    "    'n_estimators':[5,50,100],\n",
    "    'max_depth':[2,10,20,None]\n",
    "}\n",
    " \n",
    "cv = GridSearchCV(RandomForcast,criterion,cv=5)\n",
    "cv.fit(Train_Feature,Train_Labels.values.ravel())\n",
    "showStatus(cv)"
   ]
  },
  {
   "cell_type": "code",
   "execution_count": 19,
   "id": "18597065",
   "metadata": {},
   "outputs": [
    {
     "data": {
      "text/plain": [
       "RandomForestClassifier()"
      ]
     },
     "execution_count": 19,
     "metadata": {},
     "output_type": "execute_result"
    }
   ],
   "source": [
    "randomForcast_classifier1 = RandomForestClassifier(n_estimators=50,max_depth=2)\n",
    "randomForcast_classifier1.fit(Train_Feature,Train_Labels.values.ravel())\n",
    "\n",
    "randomForcast_classifier2 = RandomForestClassifier(n_estimators=50,max_depth=10)\n",
    "randomForcast_classifier2.fit(Train_Feature,Train_Labels.values.ravel())\n",
    "\n",
    "randomForcast_classifier3 = RandomForestClassifier(n_estimators=100,max_depth=None)\n",
    "randomForcast_classifier3.fit(Train_Feature,Train_Labels.values.ravel())\n",
    "\n"
   ]
  },
  {
   "cell_type": "code",
   "execution_count": 20,
   "id": "fa3829e6",
   "metadata": {},
   "outputs": [
    {
     "name": "stdout",
     "output_type": "stream",
     "text": [
      "Max Depth:2/ #OF EST:50--A: 0.967/ p:0.967/ R:0.967\n",
      "Max Depth:10/ #OF EST:50--A: 0.967/ p:0.967/ R:0.967\n",
      "Max Depth:None/ #OF EST:100--A: 0.967/ p:0.967/ R:0.967\n"
     ]
    }
   ],
   "source": [
    "#Now We will Evaluate models into validation\n",
    "\n",
    "from sklearn.metrics import accuracy_score,precision_score,recall_score\n",
    "ValueFt = pd.read_csv(\"ValueFt.csv\")\n",
    "ValueLb = pd.read_csv(\"ValueLb.csv\",header = None)\n",
    "ValueLb = ValueLb[1:]\n",
    "\n",
    "for i in [randomForcast_classifier1,randomForcast_classifier2,randomForcast_classifier3]:\n",
    "    y_pred = i.predict(ValueFt)\n",
    "    \n",
    "    Count = round(accuracy_score(ValueLb,y_pred),3)\n",
    "    Prc = round(precision_score(ValueLb,y_pred,average='micro'),3)\n",
    "    recall = round(recall_score(ValueLb,y_pred,average='micro'),3)\n",
    "    \n",
    "    print(\"Max Depth:{}/ #OF EST:{}--A: {}/ p:{}/ R:{}\".format(i.max_depth,i.n_estimators,Count,Prc,recall))\n",
    "    "
   ]
  },
  {
   "cell_type": "code",
   "execution_count": 21,
   "id": "2afb20a9",
   "metadata": {},
   "outputs": [
    {
     "name": "stdout",
     "output_type": "stream",
     "text": [
      "Max Depth:None/ #OF EST:100--A: 1.0/ p:1.0/ R:1.0\n"
     ]
    }
   ],
   "source": [
    "testFeature = pd.read_csv(\"TestFt.csv\")\n",
    "testLabels  = pd.read_csv(\"TestLb.csv\",header=None)\n",
    "testLabels  = testLabels[1:]\n",
    "y_pred = randomForcast_classifier1.predict(testFeature)\n",
    "\n",
    "Count = round(accuracy_score(testLabels,y_pred),3)\n",
    "Prc = round(precision_score(testLabels,y_pred,average='micro'),3)\n",
    "recall = round(recall_score(testLabels,y_pred,average='micro'),3)\n",
    "    \n",
    "print(\"Max Depth:{}/ #OF EST:{}--A: {}/ p:{}/ R:{}\".format(i.max_depth,i.n_estimators,Count,Prc,recall))"
   ]
  },
  {
   "cell_type": "code",
   "execution_count": 22,
   "id": "bce9d251",
   "metadata": {},
   "outputs": [
    {
     "name": "stdout",
     "output_type": "stream",
     "text": [
      "Best Params: {'max_depth': 10, 'n_estimators': 5}\n",
      "\n",
      "0.9 (+/-0.191) for {'max_depth': 2, 'n_estimators': 5}\n",
      "0.911 (+/-0.206) for {'max_depth': 2, 'n_estimators': 50}\n",
      "0.9 (+/-0.191) for {'max_depth': 2, 'n_estimators': 100}\n",
      "0.922 (+/-0.206) for {'max_depth': 10, 'n_estimators': 5}\n",
      "0.922 (+/-0.206) for {'max_depth': 10, 'n_estimators': 50}\n",
      "0.922 (+/-0.206) for {'max_depth': 10, 'n_estimators': 100}\n",
      "0.911 (+/-0.194) for {'max_depth': 20, 'n_estimators': 5}\n",
      "0.922 (+/-0.206) for {'max_depth': 20, 'n_estimators': 50}\n",
      "0.922 (+/-0.206) for {'max_depth': 20, 'n_estimators': 100}\n",
      "0.922 (+/-0.206) for {'max_depth': None, 'n_estimators': 5}\n",
      "0.922 (+/-0.206) for {'max_depth': None, 'n_estimators': 50}\n",
      "0.922 (+/-0.206) for {'max_depth': None, 'n_estimators': 100}\n"
     ]
    }
   ],
   "source": [
    "#Apply  Grid search to  find optimal hyparameters with SVM,Boosting,Random forest.\n",
    "\n",
    "from sklearn.model_selection import GridSearchCV\n",
    "from sklearn.ensemble import GradientBoostingClassifier\n",
    "\n",
    "criterion = {\n",
    "    'n_estimators':[5,50,100],\n",
    "    'max_depth':[2,10,20,None]\n",
    "}\n",
    "\n",
    "cv = GridSearchCV(GradientBoostingClassifier(),criterion,cv=5)\n",
    "cv.fit(Train_Feature,Train_Labels.values.ravel())\n",
    "showStatus(cv)"
   ]
  },
  {
   "cell_type": "code",
   "execution_count": 23,
   "id": "2fb20bea",
   "metadata": {},
   "outputs": [
    {
     "data": {
      "text/plain": [
       "GradientBoostingClassifier(max_depth=None, n_estimators=5)"
      ]
     },
     "execution_count": 23,
     "metadata": {},
     "output_type": "execute_result"
    }
   ],
   "source": [
    "GradientBoostingClassifier1 =GradientBoostingClassifier(n_estimators=5,max_depth=10)\n",
    "GradientBoostingClassifier1.fit(Train_Feature,Train_Labels.values.ravel())\n",
    "\n",
    "GradientBoostingClassifier2 =GradientBoostingClassifier(n_estimators=5,max_depth=20)\n",
    "GradientBoostingClassifier2.fit(Train_Feature,Train_Labels.values.ravel())\n",
    "\n",
    "GradientBoostingClassifier3 =GradientBoostingClassifier(n_estimators=5,max_depth=None)\n",
    "GradientBoostingClassifier3.fit(Train_Feature,Train_Labels.values.ravel())\n"
   ]
  },
  {
   "cell_type": "code",
   "execution_count": 24,
   "id": "4fc39644",
   "metadata": {},
   "outputs": [
    {
     "name": "stdout",
     "output_type": "stream",
     "text": [
      "Max Depth:10/ #OF EST:5--A: 1.0/ p:1.0/ R:1.0\n",
      "Max Depth:20/ #OF EST:5--A: 1.0/ p:1.0/ R:1.0\n",
      "Max Depth:None/ #OF EST:5--A: 1.0/ p:1.0/ R:1.0\n"
     ]
    }
   ],
   "source": [
    "from sklearn.metrics import accuracy_score,precision_score,recall_score\n",
    "\n",
    "ValueFt = pd.read_csv(\"ValueFt.csv\")\n",
    "ValueLb = pd.read_csv(\"ValueLb.csv\",header=None)\n",
    "ValueLb = ValueLb[1:]\n",
    "\n",
    "for n in [GradientBoostingClassifier1,GradientBoostingClassifier2,GradientBoostingClassifier3]:\n",
    "    y_pred = n.predict(ValueFt)\n",
    "    Count = round(accuracy_score(ValueLb,y_pred),3)\n",
    "    Prc = round(precision_score(ValueLb,y_pred,average='micro'),3)\n",
    "    recall = round(recall_score(ValueLb,y_pred,average='micro'),3)\n",
    "    \n",
    "    print(\"Max Depth:{}/ #OF EST:{}--A: {}/ p:{}/ R:{}\".format(n.max_depth,n.n_estimators,Count,Prc,recall))"
   ]
  },
  {
   "cell_type": "code",
   "execution_count": 25,
   "id": "5673479e",
   "metadata": {},
   "outputs": [
    {
     "name": "stdout",
     "output_type": "stream",
     "text": [
      "Max Depth:None/ #OF EST:5--A: 1.0/ p:1.0/ R:1.0\n"
     ]
    }
   ],
   "source": [
    "#check best model for test set\n",
    "\n",
    "TestFt = pd.read_csv(\"TestFt.csv\")\n",
    "TestLb = pd.read_csv(\"TestLb.csv\", header = None)\n",
    "TestLb = TestLb[1:]\n",
    "y_pred = GradientBoostingClassifier3.predict(TestFt)\n",
    "\n",
    "Count=round(accuracy_score(TestLb,y_pred),3)\n",
    "Prc=round(precision_score(TestLb,y_pred,average='micro'),3)\n",
    "recall = round(recall_score(TestLb,y_pred,average='micro'),3)\n",
    "print(\"Max Depth:{}/ #OF EST:{}--A: {}/ p:{}/ R:{}\".format(n.max_depth,n.n_estimators,Count,Prc,recall))"
   ]
  },
  {
   "cell_type": "code",
   "execution_count": 26,
   "id": "cd898ce8",
   "metadata": {},
   "outputs": [
    {
     "name": "stdout",
     "output_type": "stream",
     "text": [
      "Best Params: {'C': 1, 'kernel': 'linear'}\n",
      "\n",
      "0.956 (+/-0.083) for {'C': 1, 'kernel': 'linear'}\n",
      "0.922 (+/-0.113) for {'C': 1, 'kernel': 'rbf'}\n",
      "0.933 (+/-0.109) for {'C': 10, 'kernel': 'linear'}\n",
      "0.944 (+/-0.07) for {'C': 10, 'kernel': 'rbf'}\n"
     ]
    }
   ],
   "source": [
    "#Apply SVM model\n",
    "\n",
    "from sklearn.model_selection import GridSearchCV\n",
    "from sklearn.svm import SVC\n",
    "mdl = SVC()\n",
    "\n",
    "pvm = {'kernel': ('linear', 'rbf'), 'C': [1, 10]}\n",
    "cv = GridSearchCV(mdl,pvm,cv=5)\n",
    "cv.fit(Train_Feature,Train_Labels.values.ravel())\n",
    "showStatus(cv)"
   ]
  },
  {
   "cell_type": "code",
   "execution_count": 27,
   "id": "268262ee",
   "metadata": {},
   "outputs": [
    {
     "data": {
      "text/plain": [
       "SVC(C=10.0, kernel='linear')"
      ]
     },
     "execution_count": 27,
     "metadata": {},
     "output_type": "execute_result"
    }
   ],
   "source": [
    "SVM_model1 = SVC(C=1.0,kernel=\"linear\")\n",
    "SVM_model1.fit(Train_Feature,Train_Labels.values.ravel())\n",
    "\n",
    "SVM_model2 = SVC(C=10.0,kernel=\"linear\")\n",
    "SVM_model2.fit(Train_Feature,Train_Labels.values.ravel())\n",
    "\n",
    "SVM_model3 = SVC(C=10.0,kernel=\"linear\")\n",
    "SVM_model3.fit(Train_Feature,Train_Labels.values.ravel())"
   ]
  },
  {
   "cell_type": "code",
   "execution_count": 28,
   "id": "db41437f",
   "metadata": {},
   "outputs": [
    {
     "name": "stdout",
     "output_type": "stream",
     "text": [
      "C:1.0/ #OF kernel:linear--A: 1.0/ p:1.0/ R:1.0\n",
      "C:10.0/ #OF kernel:linear--A: 1.0/ p:1.0/ R:1.0\n",
      "C:10.0/ #OF kernel:linear--A: 1.0/ p:1.0/ R:1.0\n"
     ]
    }
   ],
   "source": [
    "from sklearn.metrics import accuracy_score,precision_score,recall_score\n",
    "\n",
    "\n",
    "ValueFt = pd.read_csv(\"ValueFt.csv\")\n",
    "ValueLb = pd.read_csv(\"ValueLb.csv\",header = None)\n",
    "ValueLb = ValueLb[1:]\n",
    "\n",
    "for j in [SVM_model1,SVM_model2,SVM_model3]:\n",
    "    y_pred=j.predict(ValueFt)\n",
    "#     print(len(y_pred))\n",
    "    Count=round(accuracy_score(ValueLb,y_pred),3)\n",
    "    Prc=round(precision_score(ValueLb,y_pred,average='micro'),3)\n",
    "    recall = round(recall_score(ValueLb,y_pred,average='micro'),3)\n",
    "    print(\"C:{}/ #OF kernel:{}--A: {}/ p:{}/ R:{}\".format(j.C,j.kernel,Count,Prc,recall))"
   ]
  },
  {
   "cell_type": "code",
   "execution_count": null,
   "id": "9735dcc9",
   "metadata": {},
   "outputs": [],
   "source": []
  },
  {
   "cell_type": "code",
   "execution_count": 29,
   "id": "0044f0b5",
   "metadata": {},
   "outputs": [
    {
     "name": "stdout",
     "output_type": "stream",
     "text": [
      "C:10.0/ #OF kernel:linear--A: 1.0/ p:1.0/ R:1.0\n"
     ]
    }
   ],
   "source": [
    "TestFt = pd.read_csv(\"TestFt.csv\")\n",
    "TestLb  = pd.read_csv(\"TestLb.csv\",header=None)\n",
    "TestLb  = TestLb[1:]\n",
    "y_pred = SVM_model1.predict(TestFt)\n",
    "\n",
    "\n",
    "Count=round(accuracy_score(TestLb,y_pred),3)\n",
    "Prc=round(precision_score(TestLb,y_pred,average='micro'),3)\n",
    "recall = round(recall_score(TestLb,y_pred,average='micro'),3)\n",
    "print(\"C:{}/ #OF kernel:{}--A: {}/ p:{}/ R:{}\".format(j.C,j.kernel,Count,Prc,recall))"
   ]
  },
  {
   "cell_type": "code",
   "execution_count": 30,
   "id": "8f3afcb4",
   "metadata": {},
   "outputs": [],
   "source": [
    "#Now we will split data into 80-20-20\n",
    "\n",
    "from sklearn.model_selection import train_test_split\n",
    "\n",
    "features=flowerDataset.drop(\"variety\",axis=1)\n",
    "labels=flowerDataset[\"variety\"]\n",
    "\n",
    "\n",
    "X_train, X_test, y_train, y_test = train_test_split(features,labels,test_size=0.2,random_state=42)\n",
    "X_test, X_val, y_test, y_val = train_test_split(X_test,y_test,test_size=0.5,random_state=42)"
   ]
  },
  {
   "cell_type": "code",
   "execution_count": 31,
   "id": "80c296ed",
   "metadata": {},
   "outputs": [
    {
     "name": "stdout",
     "output_type": "stream",
     "text": [
      "0.8\n",
      "0.1\n",
      "0.1\n"
     ]
    }
   ],
   "source": [
    "for data in [y_train,y_test,y_val]:\n",
    "    print(round(len(data)/len(labels),2))"
   ]
  },
  {
   "cell_type": "code",
   "execution_count": 32,
   "id": "9342ed5a",
   "metadata": {},
   "outputs": [],
   "source": [
    "X_train.to_csv(\"trainFeatures.csv\",index=False)\n",
    "X_val.to_csv(\"valueFeatures.csv\",index=False)\n",
    "X_test.to_csv(\"testFeatures.csv\",index=False)\n",
    "\n",
    "y_train.to_csv(\"trainLabels.csv\",index=False)\n",
    "y_val.to_csv(\"valueLabels.csv\",index=False)\n",
    "y_test.to_csv(\"testLabels.csv\",index=False)"
   ]
  },
  {
   "cell_type": "code",
   "execution_count": 33,
   "id": "3b186a87",
   "metadata": {},
   "outputs": [
    {
     "name": "stdout",
     "output_type": "stream",
     "text": [
      "120\n",
      "120\n"
     ]
    }
   ],
   "source": [
    "#Apply K fold cross validation\n",
    "\n",
    "from sklearn.ensemble import RandomForestClassifier\n",
    "from sklearn.model_selection import cross_val_score\n",
    "\n",
    "trainFeature = pd.read_csv(\"trainFeatures.csv\")\n",
    "trainLabels = pd.read_csv(\"trainLabels.csv\",header= None)\n",
    "trainLabels = trainLabels[1:]\n",
    "\n",
    "print(len(trainFeature))\n",
    "print(len(trainLabels))\n",
    "rf = RandomForestClassifier()"
   ]
  },
  {
   "cell_type": "code",
   "execution_count": null,
   "id": "b6f93417",
   "metadata": {},
   "outputs": [],
   "source": []
  },
  {
   "cell_type": "code",
   "execution_count": 34,
   "id": "f762b57c",
   "metadata": {},
   "outputs": [
    {
     "data": {
      "text/plain": [
       "array([0.95833333, 1.        , 0.83333333, 0.95833333, 0.95833333])"
      ]
     },
     "execution_count": 34,
     "metadata": {},
     "output_type": "execute_result"
    }
   ],
   "source": [
    "result = cross_val_score(rf, trainFeature, trainLabels.values.ravel(),cv=5)\n",
    "result"
   ]
  },
  {
   "cell_type": "code",
   "execution_count": 35,
   "id": "52ec6dc6",
   "metadata": {},
   "outputs": [
    {
     "name": "stdout",
     "output_type": "stream",
     "text": [
      "Best Params: {'max_depth': 10, 'n_estimators': 5}\n",
      "\n",
      "0.942 (+/-0.125) for {'max_depth': 2, 'n_estimators': 5}\n",
      "0.933 (+/-0.145) for {'max_depth': 2, 'n_estimators': 50}\n",
      "0.933 (+/-0.145) for {'max_depth': 2, 'n_estimators': 100}\n",
      "0.95 (+/-0.122) for {'max_depth': 10, 'n_estimators': 5}\n",
      "0.942 (+/-0.113) for {'max_depth': 10, 'n_estimators': 50}\n",
      "0.942 (+/-0.113) for {'max_depth': 10, 'n_estimators': 100}\n",
      "0.933 (+/-0.145) for {'max_depth': 20, 'n_estimators': 5}\n",
      "0.942 (+/-0.155) for {'max_depth': 20, 'n_estimators': 50}\n",
      "0.95 (+/-0.122) for {'max_depth': 20, 'n_estimators': 100}\n",
      "0.917 (+/-0.129) for {'max_depth': None, 'n_estimators': 5}\n",
      "0.942 (+/-0.113) for {'max_depth': None, 'n_estimators': 50}\n",
      "0.95 (+/-0.122) for {'max_depth': None, 'n_estimators': 100}\n"
     ]
    }
   ],
   "source": [
    "#Apply Rendom Forest\n",
    "\n",
    "from sklearn.model_selection import GridSearchCV\n",
    "parameters={\n",
    "    'n_estimators':[5,50,100],\n",
    "    'max_depth':[2,10,20,None]\n",
    "}\n",
    "cv = GridSearchCV(rf,parameters,cv=5)\n",
    "cv.fit(trainFeature,trainLabels.values.ravel())\n",
    "showStatus(cv)"
   ]
  },
  {
   "cell_type": "code",
   "execution_count": 36,
   "id": "42058eac",
   "metadata": {},
   "outputs": [
    {
     "data": {
      "text/plain": [
       "RandomForestClassifier()"
      ]
     },
     "execution_count": 36,
     "metadata": {},
     "output_type": "execute_result"
    }
   ],
   "source": [
    "RandomFC1 =RandomForestClassifier(n_estimators=50,max_depth=2)\n",
    "RandomFC1.fit(trainFeature,trainLabels.values.ravel())\n",
    "\n",
    "RandomFC2 =RandomForestClassifier(n_estimators=50,max_depth=10)\n",
    "RandomFC2.fit(trainFeature,trainLabels.values.ravel())\n",
    "\n",
    "RandomFC3 =RandomForestClassifier(n_estimators=100,max_depth=None)\n",
    "RandomFC3.fit(trainFeature,trainLabels.values.ravel())"
   ]
  },
  {
   "cell_type": "code",
   "execution_count": 37,
   "id": "9364f80f",
   "metadata": {},
   "outputs": [
    {
     "name": "stdout",
     "output_type": "stream",
     "text": [
      "Max Depth:2/ #OF EST:50--A: 1.0/ p:1.0/ R:1.0\n",
      "Max Depth:10/ #OF EST:50--A: 1.0/ p:1.0/ R:1.0\n",
      "Max Depth:None/ #OF EST:100--A: 1.0/ p:1.0/ R:1.0\n"
     ]
    }
   ],
   "source": [
    "from sklearn.metrics import accuracy_score,precision_score,recall_score\n",
    "\n",
    "Value_Feature = pd.read_csv(\"valueFeatures.csv\")\n",
    "Value_Labels = pd.read_csv(\"valueLabels.csv\",header=None)\n",
    "Value_Labels = Value_Labels[1:]\n",
    "\n",
    "for k in [RandomFC1,RandomFC2,RandomFC3]:\n",
    "    y_pred=k.predict(Value_Feature)\n",
    "#     print(len(y_pred))\n",
    "    Count=round(accuracy_score(Value_Labels,y_pred),3)\n",
    "    Prc=round(precision_score(Value_Labels,y_pred,average='micro'),3)\n",
    "    recall = round(recall_score(Value_Labels,y_pred,average='micro'),3)\n",
    "    print(\"Max Depth:{}/ #OF EST:{}--A: {}/ p:{}/ R:{}\".format(k.max_depth,k.n_estimators,Count,Prc,recall))"
   ]
  },
  {
   "cell_type": "code",
   "execution_count": 38,
   "id": "dd0e0b9e",
   "metadata": {},
   "outputs": [
    {
     "name": "stdout",
     "output_type": "stream",
     "text": [
      "Max Depth:None/ #OF EST:100--A: 1.0/ p:1.0/ R:1.0\n"
     ]
    }
   ],
   "source": [
    "Test_Feature = pd.read_csv(\"testFeatures.csv\")\n",
    "Test_Labels  = pd.read_csv(\"testLabels.csv\",header=None)\n",
    "Test_Labels  = Test_Labels[1:]\n",
    "y_pred = RandomFC1.predict(Test_Feature)\n",
    "\n",
    "Count=round(accuracy_score(Test_Labels,y_pred),3)\n",
    "Prc=round(precision_score(Test_Labels,y_pred,average='micro'),3)\n",
    "recall = round(recall_score(Test_Labels,y_pred,average='micro'),3)\n",
    "print(\"Max Depth:{}/ #OF EST:{}--A: {}/ p:{}/ R:{}\".format(k.max_depth,k.n_estimators,Count,Prc,recall))"
   ]
  },
  {
   "cell_type": "code",
   "execution_count": 39,
   "id": "da0e4713",
   "metadata": {},
   "outputs": [
    {
     "name": "stdout",
     "output_type": "stream",
     "text": [
      "Best Params: {'max_depth': 10, 'n_estimators': 5}\n",
      "\n",
      "0.942 (+/-0.125) for {'max_depth': 2, 'n_estimators': 5}\n",
      "0.942 (+/-0.113) for {'max_depth': 2, 'n_estimators': 50}\n",
      "0.917 (+/-0.105) for {'max_depth': 2, 'n_estimators': 100}\n",
      "0.95 (+/-0.122) for {'max_depth': 10, 'n_estimators': 5}\n",
      "0.95 (+/-0.122) for {'max_depth': 10, 'n_estimators': 50}\n",
      "0.95 (+/-0.122) for {'max_depth': 10, 'n_estimators': 100}\n",
      "0.95 (+/-0.122) for {'max_depth': 20, 'n_estimators': 5}\n",
      "0.95 (+/-0.122) for {'max_depth': 20, 'n_estimators': 50}\n",
      "0.95 (+/-0.122) for {'max_depth': 20, 'n_estimators': 100}\n",
      "0.95 (+/-0.122) for {'max_depth': None, 'n_estimators': 5}\n",
      "0.95 (+/-0.122) for {'max_depth': None, 'n_estimators': 50}\n",
      "0.95 (+/-0.122) for {'max_depth': None, 'n_estimators': 100}\n"
     ]
    }
   ],
   "source": [
    "from sklearn.model_selection import GridSearchCV\n",
    "from sklearn.ensemble import GradientBoostingClassifier\n",
    "PMR={\n",
    "    'n_estimators':[5,50,100],\n",
    "    'max_depth':[2,10,20,None]\n",
    "}\n",
    "# parameters = {'kernel': ('linear', 'rbf'), 'C': [1, 10]}\n",
    "cv = GridSearchCV(GradientBoostingClassifier(),PMR,cv=5)\n",
    "cv.fit(trainFeature,trainLabels.values.ravel())\n",
    "showStatus(cv)"
   ]
  },
  {
   "cell_type": "code",
   "execution_count": 40,
   "id": "1939ed81",
   "metadata": {},
   "outputs": [
    {
     "data": {
      "text/plain": [
       "GradientBoostingClassifier(max_depth=None, n_estimators=5)"
      ]
     },
     "execution_count": 40,
     "metadata": {},
     "output_type": "execute_result"
    }
   ],
   "source": [
    "GradientBC1 =GradientBoostingClassifier(n_estimators=5,max_depth=10)\n",
    "GradientBC1.fit(trainFeature,trainLabels.values.ravel())\n",
    "\n",
    "GradientBC2 =GradientBoostingClassifier(n_estimators=5,max_depth=20)\n",
    "GradientBC2.fit(trainFeature,trainLabels.values.ravel())\n",
    "\n",
    "GradientBC3 =GradientBoostingClassifier(n_estimators=5,max_depth=None)\n",
    "GradientBC3.fit(trainFeature,trainLabels.values.ravel())"
   ]
  },
  {
   "cell_type": "code",
   "execution_count": 41,
   "id": "c5675799",
   "metadata": {},
   "outputs": [
    {
     "name": "stdout",
     "output_type": "stream",
     "text": [
      "Max Depth:10/ #OF EST:5--A: 1.0/ p:1.0/ R:1.0\n",
      "Max Depth:20/ #OF EST:5--A: 1.0/ p:1.0/ R:1.0\n",
      "Max Depth:None/ #OF EST:5--A: 1.0/ p:1.0/ R:1.0\n"
     ]
    }
   ],
   "source": [
    "from sklearn.metrics import accuracy_score,precision_score,recall_score\n",
    "Value_Feature = pd.read_csv(\"valueFeatures.csv\")\n",
    "Value_Labels = pd.read_csv(\"valueLabels.csv\",header=None)\n",
    "Value_Labels = Value_Labels[1:]\n",
    "# print(len(val_feature))\n",
    "# print(val_labels)\n",
    "for h in [GradientBC1,GradientBC2,GradientBC3]:\n",
    "    y_pred=h.predict(Value_Feature)\n",
    "#     print(len(y_pred))\n",
    "    Count=round(accuracy_score(Value_Labels,y_pred),3)\n",
    "    Prc=round(precision_score(Value_Labels,y_pred,average='micro'),3)\n",
    "    recall = round(recall_score(Value_Labels,y_pred,average='micro'),3)\n",
    "    print(\"Max Depth:{}/ #OF EST:{}--A: {}/ p:{}/ R:{}\".format(h.max_depth,h.n_estimators,Count,Prc,recall))"
   ]
  },
  {
   "cell_type": "code",
   "execution_count": 42,
   "id": "e8c18026",
   "metadata": {},
   "outputs": [
    {
     "name": "stdout",
     "output_type": "stream",
     "text": [
      "Max Depth:None/ #OF EST:5--A: 1.0/ p:1.0/ R:1.0\n"
     ]
    }
   ],
   "source": [
    "Test_Feature = pd.read_csv(\"testFeatures.csv\")\n",
    "Test_Labels  = pd.read_csv(\"testLabels.csv\",header=None)\n",
    "Test_Labels  = Test_Labels[1:]\n",
    "y_pred = GradientBC3.predict(Test_Feature)\n",
    "\n",
    "Count=round(accuracy_score(Test_Labels,y_pred),3)\n",
    "Prc=round(precision_score(Test_Labels,y_pred,average='micro'),3)\n",
    "recall = round(recall_score(Test_Labels,y_pred,average='micro'),3)\n",
    "print(\"Max Depth:{}/ #OF EST:{}--A: {}/ p:{}/ R:{}\".format(h.max_depth,h.n_estimators,Count,Prc,recall))"
   ]
  },
  {
   "cell_type": "code",
   "execution_count": 43,
   "id": "1f759ac0",
   "metadata": {},
   "outputs": [
    {
     "name": "stdout",
     "output_type": "stream",
     "text": [
      "Best Params: {'C': 1, 'kernel': 'linear'}\n",
      "\n",
      "0.958 (+/-0.091) for {'C': 1, 'kernel': 'linear'}\n",
      "0.95 (+/-0.122) for {'C': 1, 'kernel': 'rbf'}\n",
      "0.95 (+/-0.122) for {'C': 10, 'kernel': 'linear'}\n",
      "0.95 (+/-0.122) for {'C': 10, 'kernel': 'rbf'}\n"
     ]
    }
   ],
   "source": [
    "#Apply SVM Model\n",
    "\n",
    "from sklearn.model_selection import GridSearchCV\n",
    "from sklearn.svm import SVC\n",
    "model=SVC()\n",
    "\n",
    "parameters = {'kernel': ('linear', 'rbf'), 'C': [1, 10]}\n",
    "cv = GridSearchCV(model,parameters,cv=5)\n",
    "cv.fit(trainFeature,trainLabels.values.ravel())\n",
    "showStatus(cv)"
   ]
  },
  {
   "cell_type": "code",
   "execution_count": 44,
   "id": "69f03a73",
   "metadata": {},
   "outputs": [
    {
     "data": {
      "text/plain": [
       "SVC(C=10.0, kernel='linear')"
      ]
     },
     "execution_count": 44,
     "metadata": {},
     "output_type": "execute_result"
    }
   ],
   "source": [
    "svm_Model1 =SVC(C=1.0,kernel=\"linear\")\n",
    "svm_Model1.fit(trainFeature,trainLabels.values.ravel())\n",
    "\n",
    "svm_Model2 =SVC(C=10.0,kernel=\"rbf\")\n",
    "svm_Model2.fit(trainFeature,trainLabels.values.ravel())\n",
    "\n",
    "svm_Model3 =SVC(C=10.0,kernel=\"linear\")\n",
    "svm_Model3.fit(trainFeature,trainLabels.values.ravel())"
   ]
  },
  {
   "cell_type": "code",
   "execution_count": 45,
   "id": "c366540a",
   "metadata": {},
   "outputs": [
    {
     "name": "stdout",
     "output_type": "stream",
     "text": [
      "C:1.0/ #OF kernel:linear--A: 1.0/ p:1.0/ R:1.0\n",
      "C:10.0/ #OF kernel:rbf--A: 1.0/ p:1.0/ R:1.0\n",
      "C:10.0/ #OF kernel:linear--A: 0.933/ p:0.933/ R:0.933\n"
     ]
    }
   ],
   "source": [
    "from sklearn.metrics import accuracy_score,precision_score,recall_score\n",
    "Value_Feature = pd.read_csv(\"valueFeatures.csv\")\n",
    "Value_Labels = pd.read_csv(\"valueLabels.csv\",header=None)\n",
    "Value_Labels = Value_Labels[1:]\n",
    "# print(len(val_feature))\n",
    "# print(val_labels)\n",
    "for g in [svm_Model1,svm_Model2,svm_Model3]:\n",
    "    y_pred=g.predict(Value_Feature)\n",
    "#     print(len(y_pred))\n",
    "    Count=round(accuracy_score(Value_Labels,y_pred),3)\n",
    "    Prc=round(precision_score(Value_Labels,y_pred,average='micro'),3)\n",
    "    recall = round(recall_score(Value_Labels,y_pred,average='micro'),3)\n",
    "    print(\"C:{}/ #OF kernel:{}--A: {}/ p:{}/ R:{}\".format(g.C,g.kernel,Count,Prc,recall))"
   ]
  },
  {
   "cell_type": "code",
   "execution_count": 46,
   "id": "d9cee865",
   "metadata": {},
   "outputs": [
    {
     "name": "stdout",
     "output_type": "stream",
     "text": [
      "C:10.0/ #OF kernel:linear--A: 1.0/ p:1.0/ R:1.0\n"
     ]
    }
   ],
   "source": [
    "#Apply best modet to test set\n",
    "\n",
    "Test_Feature = pd.read_csv(\"testFeatures.csv\")\n",
    "Test_Labels  = pd.read_csv(\"testLabels.csv\",header=None)\n",
    "Test_Labels  = Test_Labels[1:]\n",
    "y_pred = svm_Model1.predict(Test_Feature)\n",
    "\n",
    "Count=round(accuracy_score(Test_Labels,y_pred),3)\n",
    "Prc=round(precision_score(Test_Labels,y_pred,average='micro'),3)\n",
    "recall = round(recall_score(Test_Labels,y_pred,average='micro'),3)\n",
    "print(\"C:{}/ #OF kernel:{}--A: {}/ p:{}/ R:{}\".format(g.C,g.kernel,Count,Prc,recall))"
   ]
  },
  {
   "cell_type": "code",
   "execution_count": null,
   "id": "7707e514",
   "metadata": {},
   "outputs": [],
   "source": []
  }
 ],
 "metadata": {
  "kernelspec": {
   "display_name": "Python 3 (ipykernel)",
   "language": "python",
   "name": "python3"
  },
  "language_info": {
   "codemirror_mode": {
    "name": "ipython",
    "version": 3
   },
   "file_extension": ".py",
   "mimetype": "text/x-python",
   "name": "python",
   "nbconvert_exporter": "python",
   "pygments_lexer": "ipython3",
   "version": "3.9.13"
  }
 },
 "nbformat": 4,
 "nbformat_minor": 5
}
